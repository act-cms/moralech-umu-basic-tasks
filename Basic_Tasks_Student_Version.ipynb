{
  "nbformat": 4,
  "nbformat_minor": 0,
  "metadata": {
    "colab": {
      "provenance": []
    },
    "kernelspec": {
      "name": "python3",
      "display_name": "Python 3"
    },
    "language_info": {
      "name": "python"
    }
  },
  "cells": [
    {
      "cell_type": "markdown",
      "source": [
        "#Basic Tasks using a Jupyter Notebook with Code in Python (Piloted Spring 2025) (Student Version)\n",
        "\n",
        "## ***Important: File → Save a copy in Drive (Do this first so you can save your work!)***\n",
        "\n",
        "**Prior Knowledge Needed**\n",
        "*   Significant Figures\n",
        "*   Moles and Molar Masses\n",
        "*   Periodic Table\n",
        "\n",
        "**Content Learning Objectives:**\n",
        "*   Recognize and report significant figures\n",
        "*   Convert between mass in grams and amount in moles\n",
        "*   Explain periodic trends in molar masses\n",
        "\n",
        "**Process Learning Objectives:**\n",
        "*   Use Python code to define values and functions, and to perform calculations\n",
        "*   Use Python code to report the output of calculations in a specified format\n",
        "*   Use Python code to fit data to a model, and report the fitted model\n",
        "*   Use Python code to plot data with a model, and display the plot in a specified format\n",
        "\n",
        "**Overview:**\n",
        "This Jupyter notebook can be used to generate code in Python to perform four basic tasks:\n",
        "1. Basic calculations (Example: Calculating moles of a solid with a given molar mass)\n",
        "2. Entering data into NumPy arrays (Example: Recording the molar masses of atoms in Row 5 of the periodic table)\n",
        "3. Fitting data in NumPy arrays to a NumPy or SciPy nonlinear model function (Example: Fitting the molar masses of atoms in Row 5 to a polynomial)\n",
        "4. Creating a Matplotlib graph of data in NumPy arrays and of a nonlinear model function\n",
        "\n"
      ],
      "metadata": {
        "id": "_5o6b3XY9CFN"
      }
    },
    {
      "cell_type": "markdown",
      "source": [
        "Python code can be used to perform calculations.  For example, it can be used to calculate moles of a solid with a given mass and molar mass.  \n",
        "*   Each number must be assigned to a separate variable.\n",
        "*   Units for each variable may be included in the variable name.  They should not be assigned into the variable along with the number.\n",
        "*   Each formula used to calculate an unknown number can be assigned to a different variable.  \n",
        "*   Always **print** unknown numbers after calculating. Unknown numbers can be printed out in a selected format.\n",
        "*   If a formula is used many times, it can be used to create a function.\n",
        "\n"
      ],
      "metadata": {
        "id": "bVDsaw_dD0Zv"
      }
    },
    {
      "cell_type": "markdown",
      "source": [
        "###Task 1: Basic Calculations\n",
        "\n",
        "1a) Using the information above, double-click here in this **text cell** and type into each of the comment lines to **explain the purpose** of each line of sample-code below in this text cell (they should look like the example shown here).\n",
        "\n",
        "---\n",
        "```\n",
        "#### The code below is for:\n",
        "```\n",
        "---\n",
        "\n",
        "1b) Copy/paste all the sample-code along with your explanations into the **code cell** just below this text cell, and run it.  Ask for help if needed.\n",
        "\n",
        "1c) Answer the **key question** below in your laboratory notebook.  Discuss as a group.  Ask for help if needed.\n",
        "\n",
        "####**Thinking About The Data, Task 1**: Use your output and prior knowledge of significant figures to answer the following:\n",
        "* Q1a. Did you get the right answer?\n",
        "* Q1b. What format was used to print it out?\n",
        "* Q1c. Why is the formatting important?\n",
        "\n",
        "---\n",
        "```python\n",
        "#### The code below is for:\n",
        "KHP_FM_in_grams_per_mole = 204.22\n",
        "\n",
        "#### The code below is for:\n",
        "KHP_mass_in_grams = 0.123\n",
        "\n",
        "#### The code below is for:\n",
        "KHP_amount_in_moles = KHP_mass_in_grams/KHP_FM_in_grams_per_mole\n",
        "\n",
        "#### The code below is for:\n",
        "print(KHP_amount_in_moles)\n",
        "#### The code below is for:\n",
        "print(f\"Mass of KHP= {KHP_mass_in_grams} g, Amount of KHP = {KHP_amount_in_moles:.2e} mol\")\n",
        "\n",
        "```\n",
        "---"
      ],
      "metadata": {
        "id": "MxInpZY6FtRB"
      }
    },
    {
      "cell_type": "code",
      "execution_count": null,
      "metadata": {
        "id": "YocBUZhx89UR"
      },
      "outputs": [],
      "source": []
    },
    {
      "cell_type": "markdown",
      "source": [
        "###Challenge (Example 1):\n",
        "\n",
        "You have already used Python to convert grams of KHP to moles of KHP.  If you have to do the same calculation many times, what would you change?\n",
        "\n",
        "Defining a *function* in Python is useful when performing the same calculation several times with different values:\n",
        "* A ***function*** must be *defined*;\n",
        "* it requires input values (*arguments*);\n",
        "* it yields output values on *return*.  \n",
        "\n",
        "Let's take this opportunity to define a simple function, *KHP_grams_to_moles*.  \n",
        "\n",
        "Using the information above, double-click right here in this **text cell** and type into each of the headings to **explain the purpose** of each line or two of sample-code below the dividing line in this text cell. Then, **add four lines of code** to quickly calculate and print **several masses** of KHP: 0.123, 0.234, and 0.345. Copy/paste all the code along with your explanations into the **code cell** just below this text cell, and run it. Ask for help if needed.\n",
        "\n",
        "---\n",
        "```python\n",
        "####The code below is for:\n",
        "def KHP_grams_to_moles(x):\n",
        "    return x/204.22\n",
        "\n",
        "####The code below is for:\n",
        "m1 = 0.123\n",
        "\n",
        "####The code below is for:\n",
        "print(f\"Mass of KHP in moles = {m1}, Amount of KHP in moles = {KHP_grams_to_moles(m1):.2e}\")\n",
        "```\n",
        "---\n"
      ],
      "metadata": {
        "id": "SgMPlapvMFEn"
      }
    },
    {
      "cell_type": "code",
      "source": [],
      "metadata": {
        "id": "PvuMDmq9K8Th"
      },
      "execution_count": null,
      "outputs": []
    },
    {
      "cell_type": "markdown",
      "source": [
        "###Task 2: Entering Data into NumPy Arrays\n",
        "\n",
        "NumPy arrays can be used to store data of the same type.  For example, they can be used to store the molar masses of atoms in Row 5 of the periodic table.\n",
        "*   The NumPy package must be **imported** before any data can be stored in arrays.  It is usually imported with an abbreviation such as np.  This only needs to be done once per Jupyter notebook.\n",
        "*   NumPy must be invoked to store data in a structure such as an array.  It is usually invoked by nickname.  A **period** and no spaces separate the name of the package (np) from the name of the structure (array).  **Open parentheses** are used to accept data into the structure.\n",
        "*   A single column of data must be enclosed in **square brackets**, within the open parentheses.\n",
        "*   If an array contains text data, the **text should be enclosed in quotation marks**.\n",
        "*   Data stored in an array can be called by its **column number**.\n",
        "*   A **for-loop** can be used to print all columns of an array, one at a time.  The print statement must be indented to be included in the for-loop.\n",
        "\n",
        "\n",
        "2a) Using the information above, double-click here in this **text cell** and type into each of the comment lines to **explain the purpose** of each line of sample-code below in this text cell (they should look like the example shown here).\n",
        "\n",
        "---\n",
        "```\n",
        "#### The code below is for:\n",
        "```\n",
        "---\n",
        "\n",
        "2b) Copy/paste all the sample-code along with your explanations into the **code cell** just below this text cell, and run it.  Ask for help if needed.\n",
        "\n",
        "2c) Answer the **key question** below in your laboratory notebook.  Discuss as a group.  Ask for help if needed.\n",
        "\n",
        "####**Thinking About The Data, Task 2***: Use your output from this task and your answer to the previous task to answer the following:\n",
        "* Q2a. How does the entry of numbers in the code below compare to the entry of element symbols in the code below?  What do you notice?\n",
        "* Q2b. Compare the significant figures in the output table to the significant figures in the input array.  Are they the same or different?\n",
        "* Q2c. Based on the code in Task 1, can you suggest a way to ensure the significant figures in the output table will come out the same as in the input array?  (Please do not change this code; just write a brief description.)\n",
        "\n",
        "\n",
        "---\n",
        "```python\n",
        "#### The code below is for:\n",
        "import numpy as np\n",
        "\n",
        "#### The code below is for:\n",
        "MM5 = np.array([85.47,87.62,88.91,91.22,92.91,95.95,98,101.07,102.91,106.42,107.87,112.41,114.82,118.71,121.76,127.60,126.90,131.29])\n",
        "#### The code below is for:\n",
        "AS5 = np.array([\"Rb\",\"Sr\",\"Y \",\"Zr\",\"Nb\",\"Mo\",\"Tc\",\"Ru\",\"Rh\",\"Pd\",\"Ag\",\"Cd\",\"In\",\"Sn\",\"Sb\",\"Te\",\"I \",\"Xe\"])\n",
        "\n",
        "#### The code below is for:\n",
        "for col in range(18):\n",
        "    print(AS5[col],MM5[col])\n",
        "```\n",
        "---"
      ],
      "metadata": {
        "id": "0_9NHYoRSpry"
      }
    },
    {
      "cell_type": "code",
      "source": [],
      "metadata": {
        "id": "7mkh-CPg44sB"
      },
      "execution_count": null,
      "outputs": []
    },
    {
      "cell_type": "markdown",
      "source": [
        "###Task 3: Fitting Data in NumPy Arrays to a Polynomial Model function\n",
        "\n",
        "NumPy or SciPy can be used to fit data to a nonlinear model function.  In this example we will use a second-order polynomial model function, which is included in NumPy.\n",
        "* Fitting requires arrays for x-values and y-values.  \n",
        "* The model from the fit is stored as a function.\n",
        "* To correctly write out the equation for a NumPy Polynomial fit model, it is necessary to **convert** from an internal unit system.\n",
        "\n",
        "3a) Using the information above, double-click here in this **text cell** and type into each of the comment lines to **explain the purpose** of each line of sample-code below in this text cell (they should look like the example shown here).\n",
        "\n",
        "---\n",
        "```\n",
        "#### The code below is for:\n",
        "```\n",
        "---\n",
        "\n",
        "3b) Copy/paste all the sample-code along with your explanations into the **code cell** just below this text cell, and run it.  Ask for help if needed.\n",
        "\n",
        "3c) Answer the **key question** below in your laboratory notebook.  Discuss as a group.  Ask for help if needed.\n",
        "\n",
        "####**Thinking About The Data, Task 3**: Use your output and prior knowledge of polynomials and fitting to answer the following:\n",
        "* Q3a. Based on the output, what is the the *type*, or *order* of polynomial model used?  \n",
        "* Q3b. Where in the code is the polynomial order for the model specified?\n",
        "\n",
        "---\n",
        "```python\n",
        "#### The code below is for:\n",
        "COL = np.array(range(1,19))\n",
        "\n",
        "#### The code below is for:\n",
        "model5 = np.polynomial.Polynomial.fit(COL,MM5,2)\n",
        "\n",
        "#### The code below is for:\n",
        "model5.convert()\n",
        "```\n",
        "---"
      ],
      "metadata": {
        "id": "Lt1D-GVYnuJm"
      }
    },
    {
      "cell_type": "code",
      "source": [],
      "metadata": {
        "id": "c89OCbHsj5xA"
      },
      "execution_count": null,
      "outputs": []
    },
    {
      "cell_type": "markdown",
      "source": [
        "###Task 4: Creating a Matplotlib graph of data in NumPy arrays and of a nonlinear model function\n",
        "\n",
        "Matplotlib can be used to plot data and graph model functions.\n",
        "*   The Matplotlib package must be **imported**, particularly its pyplot module which is is usually imported with an abbreviation such as plt.\n",
        "*   In Matplotlib, each figure may contain one or more subplots, each of which is defined by a set of axes.\n",
        "*   Figures and axes in Matplotlib can be labeled.\n",
        "*   Plotted data in Matplotlib can be displayed with markers or lines with specific shapes and colors, and can also be labeled.\n",
        "*   A legend can be displayed with labels for plotted data.\n",
        "*   A Matplotlib figure can be displayed and/or exported.\n",
        "\n",
        "4a) Using the information above, double-click here in this **text cell** and type into each of the comment lines to **explain the purpose** of each line of sample-code below in this text cell (they should look like the example shown here).\n",
        "\n",
        "---\n",
        "```\n",
        "#### The code below is for:\n",
        "```\n",
        "---\n",
        "\n",
        "4b) Copy/paste all the sample-code along with your explanations into the **code cell** just below this text cell, and run it.  Ask for help if needed.\n",
        "\n",
        "4c) Answer the **key question** below in your laboratory notebook.  Discuss as a group.  Ask for help if needed.\n",
        "\n",
        "####**Thinking About The Data, Task 4**: Use your prior knowledge of fitting, molar masses, the periodic table, the output below, and your answer for the previous task to answer the following:\n",
        "\n",
        "* Q4a. How well did the model fit the data?  Are all the points on the fitted curve?  Are they at least close?  Explain briefly.\n",
        "* Q4b. Why should this type of model work?  Think about how many subatomic particles make up the mass of an atom.  Then consider what polynomial order was used in the fit.  Why should this be suitable?  Explain briefly.\n",
        "* Q4c. Suppose you were transported back in time and some of these elements had not yet been discovered, but other scientists were looking for missing elements. How do you think they would know what to look for?  Explain briefly.\n",
        "\n",
        "---\n",
        "```python\n",
        "#### The code below is for:\n",
        "import matplotlib\n",
        "from matplotlib import pyplot as plt\n",
        "\n",
        "#### The code below is for:\n",
        "fig = plt.figure()\n",
        "#### The code below is for:\n",
        "ax = fig.add_subplot()\n",
        "#### The code below is for:\n",
        "fig.suptitle('Molar Masses of Row 5 Atoms')\n",
        "#### The code below is for:\n",
        "plt.xlabel('Column Number')\n",
        "plt.ylabel('Molar Mass in g/mol')\n",
        "#### The code below is for:\n",
        "ax.set_xticks(COL)\n",
        "\n",
        "#### The code below is for:\n",
        "plt.plot(COL,MM5,'ob')\n",
        "#### The code below is for:\n",
        "plt.plot(COL,model5(COL),'--b',label=model5.convert())\n",
        "\n",
        "#### The code below is for:\n",
        "ax.legend()\n",
        "#### The code below is for:\n",
        "fig.show()\n",
        "```\n",
        "---\n"
      ],
      "metadata": {
        "id": "rbkJ_IM2v5R8"
      }
    },
    {
      "cell_type": "code",
      "source": [],
      "metadata": {
        "id": "pfaPgq1DyLRg"
      },
      "execution_count": null,
      "outputs": []
    },
    {
      "cell_type": "markdown",
      "source": [
        "###Major Challenge (Tasks 2-4):\n",
        "Make copies of the code in your code cells from Examples 2-4 and modify it to plot molar masses from Row 4 of the Periodic table (you can find data at Ptable.com).\n",
        "\n",
        "---\n",
        "```python\n",
        "#### The code below is for: Storing the molar masses of atoms in Row 4 in a NumPy array (Data from Ptable.com, accessed June 29, 2024)\n",
        "MM4 = np.array([39.10,40.08,44.96,47.87,50.94,52.00,54.94,55.85,58.93,58.69,63.55,65.38,69.72,72.63,74.63,78.97,79.90,83.80])\n",
        "#### The code below is for: Storing the element symbols of atoms in Row 4 as text in a NumPy array\n",
        "AS4 = np.array([\"K \",\"Ca\",\"Sc\",\"Ti\",\"V \",\"Cr\",\"Mn\",\"Fe\",\"Co\",\"Ni\",\"Cu\",\"Zn\",\"Ga\",\"Ge\",\"As\",\"Se\",\"Br\",\"Kr\"])\n",
        "```\n",
        "---"
      ],
      "metadata": {
        "id": "_eZ4rR-dzz34"
      }
    },
    {
      "cell_type": "code",
      "source": [],
      "metadata": {
        "id": "qRIJT-Y90oo3"
      },
      "execution_count": null,
      "outputs": []
    },
    {
      "cell_type": "code",
      "source": [],
      "metadata": {
        "id": "3ylshA2s27gV"
      },
      "execution_count": null,
      "outputs": []
    },
    {
      "cell_type": "code",
      "source": [],
      "metadata": {
        "id": "rIgWJ8Kf3gtV"
      },
      "execution_count": null,
      "outputs": []
    },
    {
      "cell_type": "markdown",
      "source": [
        "***Congratulations, you did it!***  \n",
        "Please download your copy of this notebook to turn in.\n",
        "\n",
        "Remember to turn in copies of your notebook pages.  In future weeks, you will be asked to first write a summary of the week's activities in your laboratory notebook, by hand."
      ],
      "metadata": {
        "id": "lKIf0kMI3kgq"
      }
    }
  ]
}